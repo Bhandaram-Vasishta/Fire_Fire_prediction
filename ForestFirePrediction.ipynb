{
  "nbformat": 4,
  "nbformat_minor": 0,
  "metadata": {
    "colab": {
      "name": "ForestFirePrediction.ipynb",
      "provenance": [],
      "authorship_tag": "ABX9TyM1xE1xEVe9YCq/M7M2TtTF",
      "include_colab_link": true
    },
    "kernelspec": {
      "name": "python3",
      "display_name": "Python 3"
    }
  },
  "cells": [
    {
      "cell_type": "markdown",
      "metadata": {
        "id": "view-in-github",
        "colab_type": "text"
      },
      "source": [
        "<a href=\"https://colab.research.google.com/github/Bhandaram-Vasishta/Fire_Fire_prediction/blob/master/ForestFirePrediction.ipynb\" target=\"_parent\"><img src=\"https://colab.research.google.com/assets/colab-badge.svg\" alt=\"Open In Colab\"/></a>"
      ]
    },
    {
      "cell_type": "code",
      "metadata": {
        "id": "jP83mCPuYheK",
        "colab_type": "code",
        "colab": {}
      },
      "source": [
        "import streamlit as st"
      ],
      "execution_count": 1,
      "outputs": []
    },
    {
      "cell_type": "code",
      "metadata": {
        "id": "unZoFJWxY94j",
        "colab_type": "code",
        "colab": {
          "base_uri": "https://localhost:8080/",
          "height": 121
        },
        "outputId": "41216180-25f3-4812-8a97-306a5cc1a300"
      },
      "source": [
        "from google.colab import drive\n",
        "drive.mount('/content/drive')"
      ],
      "execution_count": 4,
      "outputs": [
        {
          "output_type": "stream",
          "text": [
            "Go to this URL in a browser: https://accounts.google.com/o/oauth2/auth?client_id=947318989803-6bn6qk8qdgf4n4g3pfee6491hc0brc4i.apps.googleusercontent.com&redirect_uri=urn%3aietf%3awg%3aoauth%3a2.0%3aoob&scope=email%20https%3a%2f%2fwww.googleapis.com%2fauth%2fdocs.test%20https%3a%2f%2fwww.googleapis.com%2fauth%2fdrive%20https%3a%2f%2fwww.googleapis.com%2fauth%2fdrive.photos.readonly%20https%3a%2f%2fwww.googleapis.com%2fauth%2fpeopleapi.readonly&response_type=code\n",
            "\n",
            "Enter your authorization code:\n",
            "··········\n",
            "Mounted at /content/drive\n"
          ],
          "name": "stdout"
        }
      ]
    },
    {
      "cell_type": "code",
      "metadata": {
        "id": "F6rEBK9oaUNc",
        "colab_type": "code",
        "colab": {}
      },
      "source": [
        "import numpy as np\n",
        "import pandas as pd\n",
        "from sklearn.linear_model import LogisticRegression\n",
        "from sklearn.model_selection import train_test_split\n",
        "import warnings\n",
        "import pickle\n",
        "warnings.filterwarnings(\"ignore\")"
      ],
      "execution_count": 6,
      "outputs": []
    },
    {
      "cell_type": "code",
      "metadata": {
        "id": "Ao7nFDXbayLu",
        "colab_type": "code",
        "colab": {
          "base_uri": "https://localhost:8080/",
          "height": 672
        },
        "outputId": "35251365-f09b-4b2b-bffb-d0e1ac401904"
      },
      "source": [
        "data = pd.read_csv(\"/content/drive/My Drive/Colab Notebooks/Forest/Forest_fire.csv\")\n",
        "data = np.array(data)\n",
        "\n",
        "X = data[1:, 1:-1]\n",
        "y = data[1:, -1]\n",
        "y = y.astype('int')\n",
        "X = X.astype('int')\n",
        "print(X,y)\n"
      ],
      "execution_count": 9,
      "outputs": [
        {
          "output_type": "stream",
          "text": [
            "[[ 50  30  10]\n",
            " [ 10  20  70]\n",
            " [ 60  45  70]\n",
            " [ 30  48  10]\n",
            " [ 50  15  30]\n",
            " [  5  35  35]\n",
            " [  5  20  70]\n",
            " [ 60  32  19]\n",
            " [ 30  50  45]\n",
            " [ 40  55  80]\n",
            " [ 30  39 100]\n",
            " [ 10  12  12]\n",
            " [ 20  23  23]\n",
            " [ 60  34  15]\n",
            " [ 80   4  68]\n",
            " [ 25  56  79]\n",
            " [ 12  45  90]\n",
            " [ 28  43  15]\n",
            " [ 26   0  32]\n",
            " [ 32  37  21]\n",
            " [ 45  48  12]\n",
            " [ 56  15  65]\n",
            " [ 67  45  33]\n",
            " [ 78  49   8]\n",
            " [ 89  45  18]\n",
            " [ 21  12  44]\n",
            " [ 11  20  59]\n",
            " [  1  32  70]\n",
            " [  5  20  45]\n",
            " [ 42  43  20]\n",
            " [ 32  60  30]\n",
            " [  5  15   5]\n",
            " [ 20  30   5]\n",
            " [ 30  51   2]\n",
            " [ 60  60  10]\n",
            " [ 10  10  60]\n",
            " [  0  30   0]\n",
            " [ 45  45  15]] [1 0 1 1 0 0 0 1 1 1 0 0 0 1 0 1 0 1 0 1 1 0 1 1 1 0 0 0 0 1 1 0 0 1 1 0 0\n",
            " 1]\n"
          ],
          "name": "stdout"
        }
      ]
    },
    {
      "cell_type": "code",
      "metadata": {
        "id": "Hh6z1yYHbCZC",
        "colab_type": "code",
        "colab": {}
      },
      "source": [
        "X_train, X_test, y_train, y_test = train_test_split(X, y, test_size=0.3, random_state=0)\n",
        "log_reg = LogisticRegression()\n",
        "\n",
        "\n",
        "log_reg.fit(X_train, y_train)\n",
        "\n",
        "pickle.dump(log_reg,open('model.pkl','wb'))"
      ],
      "execution_count": 10,
      "outputs": []
    },
    {
      "cell_type": "code",
      "metadata": {
        "id": "RvEwDknsfDPb",
        "colab_type": "code",
        "colab": {
          "base_uri": "https://localhost:8080/",
          "height": 67
        },
        "outputId": "c0af14e3-41fb-4397-c8c1-df8d36385720"
      },
      "source": [
        "!pip install pyngrok"
      ],
      "execution_count": 19,
      "outputs": [
        {
          "output_type": "stream",
          "text": [
            "Requirement already satisfied: pyngrok in /usr/local/lib/python3.6/dist-packages (4.1.10)\n",
            "Requirement already satisfied: future in /usr/local/lib/python3.6/dist-packages (from pyngrok) (0.16.0)\n",
            "Requirement already satisfied: PyYAML in /usr/local/lib/python3.6/dist-packages (from pyngrok) (3.13)\n"
          ],
          "name": "stdout"
        }
      ]
    },
    {
      "cell_type": "code",
      "metadata": {
        "id": "1nDBqdeTfQb8",
        "colab_type": "code",
        "colab": {
          "base_uri": "https://localhost:8080/",
          "height": 34
        },
        "outputId": "a7f669d6-be38-44cd-d179-63dc2c8177eb"
      },
      "source": [
        "! ngrok authtoken XXXXXXX"
      ],
      "execution_count": 30,
      "outputs": [
        {
          "output_type": "stream",
          "text": [
            "Authtoken saved to configuration file: /root/.ngrok2/ngrok.yml\n"
          ],
          "name": "stdout"
        }
      ]
    },
    {
      "cell_type": "code",
      "metadata": {
        "id": "yWNBoCWfbQhR",
        "colab_type": "code",
        "colab": {
          "base_uri": "https://localhost:8080/",
          "height": 34
        },
        "outputId": "93caee5c-14b3-4fdf-f1a3-fcddea142cf9"
      },
      "source": [
        "%%writefile app.py\n",
        "import streamlit as st\n",
        "import pickle\n",
        "import numpy as np\n",
        "model=pickle.load(open('model.pkl','rb'))\n",
        "\n",
        "\n",
        "def predict_forest(oxygen,humidity,temperature):\n",
        "    input=np.array([[oxygen,humidity,temperature]]).astype(np.float64)\n",
        "    prediction=model.predict_proba(input)\n",
        "    pred='{0:.{1}f}'.format(prediction[0][0], 2)\n",
        "    return float(pred)\n",
        "\n",
        "def main():\n",
        "    st.title(\"Streamlit Tutorial\")\n",
        "    html_temp = \"\"\"\n",
        "    <div style=\"background-color:#025246 ;padding:10px\">\n",
        "    <h2 style=\"color:white;text-align:center;\">Forest Fire Prediction ML App </h2>\n",
        "    </div>\n",
        "    \"\"\"\n",
        "    st.markdown(html_temp, unsafe_allow_html=True)\n",
        "\n",
        "    oxygen = st.text_input(\"Oxygen\",\"Type Here\")\n",
        "    humidity = st.text_input(\"Humidity\",\"Type Here\")\n",
        "    temperature = st.text_input(\"Temperature\",\"Type Here\")\n",
        "    safe_html=\"\"\"  \n",
        "      <div style=\"background-color:#F4D03F;padding:10px >\n",
        "       <h2 style=\"color:white;text-align:center;\"> Your forest is safe</h2>\n",
        "       </div>\n",
        "    \"\"\"\n",
        "    danger_html=\"\"\"  \n",
        "      <div style=\"background-color:#F08080;padding:10px >\n",
        "       <h2 style=\"color:black ;text-align:center;\"> Your forest is in danger</h2>\n",
        "       </div>\n",
        "    \"\"\"\n",
        "\n",
        "    if st.button(\"Predict\"):\n",
        "        output=predict_forest(oxygen,humidity,temperature)\n",
        "        st.success('The probability of fire taking place is {}'.format(output))\n",
        "\n",
        "        if output > 0.5:\n",
        "            st.markdown(danger_html,unsafe_allow_html=True)\n",
        "        else:\n",
        "            st.markdown(safe_html,unsafe_allow_html=True)\n",
        "\n",
        "if __name__=='__main__':\n",
        "    main()"
      ],
      "execution_count": 67,
      "outputs": [
        {
          "output_type": "stream",
          "text": [
            "Overwriting app.py\n"
          ],
          "name": "stdout"
        }
      ]
    },
    {
      "cell_type": "code",
      "metadata": {
        "id": "KuwjOF3qfPVa",
        "colab_type": "code",
        "colab": {
          "base_uri": "https://localhost:8080/",
          "height": 34
        },
        "outputId": "e02ebd69-6e19-4083-9c2b-10da7f3a4916"
      },
      "source": [
        "! ls\n",
        "# ! streamlit run app.py &"
      ],
      "execution_count": 69,
      "outputs": [
        {
          "output_type": "stream",
          "text": [
            "app.py\tdrive  model.pkl  nohup.out  sample_data\n"
          ],
          "name": "stdout"
        }
      ]
    },
    {
      "cell_type": "code",
      "metadata": {
        "id": "JMyUcH29bhnJ",
        "colab_type": "code",
        "colab": {
          "base_uri": "https://localhost:8080/",
          "height": 34
        },
        "outputId": "407ed836-6629-435d-aa2b-4d6557b7f926"
      },
      "source": [
        "!nohup streamlit run app.py &"
      ],
      "execution_count": 70,
      "outputs": [
        {
          "output_type": "stream",
          "text": [
            "nohup: appending output to 'nohup.out'\n"
          ],
          "name": "stdout"
        }
      ]
    },
    {
      "cell_type": "code",
      "metadata": {
        "id": "lDnt9t1Jbj6S",
        "colab_type": "code",
        "colab": {
          "base_uri": "https://localhost:8080/",
          "height": 559
        },
        "outputId": "cd375323-6e57-455f-827c-effa0823ee3e"
      },
      "source": [
        "from pyngrok import ngrok\n",
        "\n",
        "url=ngrok.connect(port='8501')\n",
        "\n",
        "url"
      ],
      "execution_count": 71,
      "outputs": [
        {
          "output_type": "stream",
          "text": [
            "2020-09-07 13:00:17.189 INFO    pyngrok.process: ngrok process starting: 1483\n",
            "2020-09-07 13:00:17.205 INFO    pyngrok.process: t=2020-09-07T13:00:17+0000 lvl=info msg=\"no configuration paths supplied\"\n",
            "\n",
            "2020-09-07 13:00:17.210 INFO    pyngrok.process: t=2020-09-07T13:00:17+0000 lvl=info msg=\"using configuration at default config path\" path=/root/.ngrok2/ngrok.yml\n",
            "\n",
            "2020-09-07 13:00:17.212 INFO    pyngrok.process: t=2020-09-07T13:00:17+0000 lvl=info msg=\"open config file\" path=/root/.ngrok2/ngrok.yml err=nil\n",
            "\n",
            "2020-09-07 13:00:17.217 INFO    pyngrok.process: t=2020-09-07T13:00:17+0000 lvl=info msg=\"starting web service\" obj=web addr=127.0.0.1:4040\n",
            "\n",
            "2020-09-07 13:00:17.646 INFO    pyngrok.process: t=2020-09-07T13:00:17+0000 lvl=info msg=\"tunnel session started\" obj=tunnels.session\n",
            "\n",
            "2020-09-07 13:00:17.647 INFO    pyngrok.process: t=2020-09-07T13:00:17+0000 lvl=info msg=\"client session established\" obj=csess id=050365e3f9a2\n",
            "\n",
            "2020-09-07 13:00:17.657 INFO    pyngrok.process: ngrok process has started: http://127.0.0.1:4040\n",
            "2020-09-07 13:00:17.662 INFO    pyngrok.process: t=2020-09-07T13:00:17+0000 lvl=info msg=start pg=/api/tunnels id=59961400cd80a59c\n",
            "\n",
            "2020-09-07 13:00:17.664 INFO    pyngrok.process: t=2020-09-07T13:00:17+0000 lvl=info msg=end pg=/api/tunnels id=59961400cd80a59c status=200 dur=1.814038ms\n",
            "\n",
            "2020-09-07 13:00:17.670 INFO    pyngrok.process: t=2020-09-07T13:00:17+0000 lvl=info msg=start pg=/api/tunnels id=c2ff48abad8be1e0\n",
            "\n",
            "2020-09-07 13:00:17.674 INFO    pyngrok.process: t=2020-09-07T13:00:17+0000 lvl=info msg=end pg=/api/tunnels id=c2ff48abad8be1e0 status=200 dur=161.519µs\n",
            "\n",
            "2020-09-07 13:00:17.677 INFO    pyngrok.process: t=2020-09-07T13:00:17+0000 lvl=info msg=start pg=/api/tunnels id=c886ab86a4a8f1e2\n",
            "\n",
            "2020-09-07 13:00:17.877 INFO    pyngrok.process: t=2020-09-07T13:00:17+0000 lvl=info msg=\"started tunnel\" obj=tunnels name=\"http-8501-e85c37fb-e43e-4e12-97db-7fe8ce4772e9 (http)\" addr=http://localhost:8501 url=http://36159d26c69f.ngrok.io\n",
            "\n",
            "2020-09-07 13:00:17.879 INFO    pyngrok.process: t=2020-09-07T13:00:17+0000 lvl=info msg=\"started tunnel\" obj=tunnels name=http-8501-e85c37fb-e43e-4e12-97db-7fe8ce4772e9 addr=http://localhost:8501 url=https://36159d26c69f.ngrok.io\n",
            "\n"
          ],
          "name": "stderr"
        },
        {
          "output_type": "execute_result",
          "data": {
            "application/vnd.google.colaboratory.intrinsic+json": {
              "type": "string"
            },
            "text/plain": [
              "'http://36159d26c69f.ngrok.io'"
            ]
          },
          "metadata": {
            "tags": []
          },
          "execution_count": 71
        },
        {
          "output_type": "stream",
          "text": [
            "2020-09-07 13:00:17.883 INFO    pyngrok.process: t=2020-09-07T13:00:17+0000 lvl=info msg=end pg=/api/tunnels id=c886ab86a4a8f1e2 status=201 dur=210.435832ms\n",
            "\n"
          ],
          "name": "stderr"
        }
      ]
    },
    {
      "cell_type": "code",
      "metadata": {
        "id": "bJxRnS0um4us",
        "colab_type": "code",
        "colab": {
          "base_uri": "https://localhost:8080/",
          "height": 34
        },
        "outputId": "645712f7-66c5-4caf-bf07-ee4a2e6525b6"
      },
      "source": [
        "ngrok.kill()"
      ],
      "execution_count": 68,
      "outputs": [
        {
          "output_type": "stream",
          "text": [
            "2020-09-07 13:00:10.778 INFO    pyngrok.process: Killing ngrok process: 1406\n"
          ],
          "name": "stderr"
        }
      ]
    },
    {
      "cell_type": "code",
      "metadata": {
        "id": "BrFlV6Trni03",
        "colab_type": "code",
        "colab": {}
      },
      "source": [
        ""
      ],
      "execution_count": null,
      "outputs": []
    }
  ]
}